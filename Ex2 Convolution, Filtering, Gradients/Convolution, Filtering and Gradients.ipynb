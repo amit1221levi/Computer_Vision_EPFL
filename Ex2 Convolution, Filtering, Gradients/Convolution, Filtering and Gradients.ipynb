{
 "cells": [
  {
   "cell_type": "markdown",
   "metadata": {},
   "source": [
    "# Exercise Session 2: Convolution, Filtering and Gradients"
   ]
  },
  {
   "cell_type": "markdown",
   "metadata": {},
   "source": [
    "The goal of this exercise is to:\n",
    "* Understand and apply a convolutional filter to an image\n",
    "* Compare the computational complexity of separable and non-separable filters\n",
    "* Compute image gradients and apply them to real-world images"
   ]
  },
  {
   "cell_type": "code",
   "execution_count": 16,
   "metadata": {},
   "outputs": [],
   "source": [
    "%matplotlib inline\n",
    "\n",
    "import numpy as np\n",
    "import matplotlib.pyplot as plt\n",
    "import cv2\n",
    "import time\n",
    "import scipy.signal as conv\n",
    "\n",
    "plt.rcParams['figure.figsize'] = (10, 10)\n",
    "plt.rcParams['image.cmap'] = 'gray'"
   ]
  },
  {
   "cell_type": "markdown",
   "metadata": {},
   "source": [
    "## Exercise 1: Applying Convolutional Filters"
   ]
  },
  {
   "cell_type": "markdown",
   "metadata": {
    "collapsed": true
   },
   "source": [
    "Assume we are given a gray-scale image $I[x, y]$, of size $W \\times H$, such that $0 \\leq x \\leq W-1$,\n",
    "and $0 \\leq y \\leq H-1$. We want to apply a filter $F[i, j]$ to image $I$. The filter $F$ is of size $(2N + 1) \\times (2M + 1)$, such that $−N \\leq i \\leq N$, and $−M \\leq j \\leq M$.\n",
    "\n",
    "The result can be computed as"
   ]
  },
  {
   "cell_type": "markdown",
   "metadata": {},
   "source": [
    "\\begin{align}\n",
    "R[x, y] = (I ∗ F)[x, y] = \\sum_{i=-N}^{N} \\sum_{i=-M}^{M} I[x − i, y − j]~F[i, j]\n",
    "\\end{align}\n"
   ]
  },
  {
   "attachments": {},
   "cell_type": "markdown",
   "metadata": {},
   "source": [
    "* Implement a function ```R = applyImageFilter(I,F)``` that takes a\n",
    "gray-scale image $I$ and a filter $F$ as inputs, and returns the result of the convolution\n",
    "of the two.\n",
    "Note: There are many python libraries providing convolution function to convolve an image with a filter, \n",
    "but in this exercise you are requested to implement your own. This will help your understanding\n",
    "of how convolutional filters work.\n",
    "    -  To avoid numerical issues, make sure $I$ and $F$ are of type float. To understand\n",
    "why, think what would happen if you add two unsigned 8-bit numbers when\n",
    "computing the convolution, for example 240 and 80.\n",
    "    -  What happens when computing $R[x, y]$ near the border of the image? What\n",
    "would you propose to deal with this issue?  "
   ]
  },
  {
   "cell_type": "markdown",
   "metadata": {},
   "source": []
  },
  {
   "cell_type": "code",
   "execution_count": 21,
   "metadata": {},
   "outputs": [],
   "source": [
    "def applyImageFilter(I, F, padding):\n",
    "    # First input parameter: I\n",
    "    #     Input image. It should be a 2D matrix. According to the notation in the description, it has W rows and \n",
    "    #     H columns.\n",
    "    # Second input parameter: F\n",
    "    #     Filter used for the convolution. It should be a 2D matrix. According to the notation in the decription,\n",
    "    #     it has (2N+1) rows and (2M+1) columns.\n",
    "    \n",
    "    # If image is not of type float, convert it to float\n",
    "    if not np.issubdtype(I.dtype,float):\n",
    "        I = np.float64(I)\n",
    "        \n",
    "    # If the filter is not of type float, convert it to float\n",
    "    if not np.issubdtype(F.dtype,float):\n",
    "        F = np.float64(F)\n",
    "    \n",
    "    # Shape of Filter\n",
    "    N_, M_ = F.shape\n",
    "    \n",
    "    # Check whether the dimensions of input are accurate, they should be odd\n",
    "    if not N_%2: \n",
    "        raise ValueError('Number of rows in the filter must be odd')\n",
    "        \n",
    "    if not M_%2:\n",
    "        raise ValueError('Number of columns in the filter must be odd')\n",
    "    \n",
    "    # Compute the values for N,M which is used in the above description. \n",
    "    N = np.int64((N_-1)/2)\n",
    "    M = np.int64((M_-1)/2)\n",
    "    \n",
    "    \n",
    "    # Shape of the input image\n",
    "    W, H = I.shape\n",
    "    \n",
    "    # ******************************************\n",
    "    # Initialize output matrix R\n",
    "    # ******************************************\n",
    "    ### your code here\n",
    "    R = np.zeros(I.shape)\n",
    "\n",
    "    # ******************************************\n",
    "    \n",
    "    # Output image size\n",
    "    W_R, H_R = R.shape\n",
    "    \n",
    "    # ******************************************\n",
    "    # Perform the convolution here\n",
    "    # Hint 1: You can implement it with 4 nested for loops\n",
    "    # Hint 2: Outer two for loops should iterate over the pixels in output image\n",
    "    # Hint 3: Inner two for loops are used to compute the R[x,y] value\n",
    "    for x in range(W_R): # Iterate over the rows of output image R\n",
    "        for y in range(H_R): # Iterate over the columns of output image R\n",
    "            R_sum = 0 # Initialize the value of R[x,y] as zero.\n",
    "            for i in range(-N, N+1): # Iterate over the rows of filter F\n",
    "                for j in range(-M, M+1): # Iterate over the columns of filter F\n",
    "                    # Check if the current pixel is out of bounds of the input image I\n",
    "                    if x+i < 0 or x+i >= W or y+j < 0 or y+j >= H:\n",
    "                        I_pixel = 0 # Set the pixel value to zero if it is out of bounds\n",
    "                    else:\n",
    "                        I_pixel = I[x+i, y+j] # Otherwise, get the pixel value from input image I\n",
    "                    R_sum += F[N-i, M-j] * I_pixel # Compute the value of R[x,y] using the current filter element and input image pixel value\n",
    "            R[x, y] = R_sum # Set the value of R[x,y] to the computed valu\n",
    "     \n",
    "    return R"
   ]
  },
  {
   "cell_type": "code",
   "execution_count": 22,
   "metadata": {
    "scrolled": false
   },
   "outputs": [
    {
     "name": "stdout",
     "output_type": "stream",
     "text": [
      "Input shape: (390, 476)\n",
      "Output shape: (390, 476)\n",
      "Error: 1.3106918217431485e-08\n"
     ]
    }
   ],
   "source": [
    "# Below code is to verify your implementation of the convolution\n",
    "# we compare your output with the scipy.signal implementation of the convolution\n",
    "# and the error should be zero\n",
    "\n",
    "# Read the sample image\n",
    "img = cv2.imread('images/res1.png',0) \n",
    "\n",
    "# Generate a random filter F of size 3 x 3\n",
    "F = np.random.randn(5,3) \n",
    "\n",
    "# Perform convolution with the function you implemented\n",
    "output_1 = applyImageFilter(img, F, padding='same')\n",
    "\n",
    "# Perform convolution with scipy.signal implementation of convolution\n",
    "output_2 = conv.convolve2d(img, F , mode='same')\n",
    "\n",
    "# Error\n",
    "print(f'Input shape: {img.shape}')\n",
    "print(f'Output shape: {output_1.shape}')\n",
    "print(f'Error: {np.sum(np.abs(output_1 - output_2))}')\n",
    "# if the implmentation is accurate, the error will be 0"
   ]
  },
  {
   "cell_type": "markdown",
   "metadata": {},
   "source": [
    "## Exercise 2: Image Smoothing"
   ]
  },
  {
   "cell_type": "markdown",
   "metadata": {},
   "source": [
    "Convolutional filters have many uses. A very common one is to smooth or soften an\n",
    "image. A typical smoothing filter is the Gaussian Filter, which follows the equation of a\n",
    "2D Gaussian probability distribution. It is an important preprocessing step typically to reduce the amount of noise.  When constructing a Gaussian filter we can specify the size and standard deviation (σ) of the underlying Gaussian function."
   ]
  },
  {
   "cell_type": "markdown",
   "metadata": {},
   "source": [
    "* To create a Gaussian filter use the function given below. "
   ]
  },
  {
   "cell_type": "code",
   "execution_count": null,
   "metadata": {},
   "outputs": [],
   "source": [
    "def gaussian_filter(fSize, fSigma):\n",
    "    x, y = np.mgrid[-fSize//2 + 1:fSize//2 + 1, -fSize//2 + 1:fSize//2 + 1]\n",
    "    g = np.exp(-((x**2 + y**2)/(2.0*fSigma**2)))\n",
    "    return g/g.sum()"
   ]
  },
  {
   "cell_type": "markdown",
   "metadata": {},
   "source": [
    "* What are fSize and fSigma?\n",
    "* How do fSize and fSigma affect the filter’s shape and size? \n",
    "* Visualize different filters by giving different values to these parameters.\n",
    "* If you are given fSigma, how would you choose fSize?"
   ]
  },
  {
   "cell_type": "code",
   "execution_count": null,
   "metadata": {},
   "outputs": [],
   "source": []
  },
  {
   "cell_type": "markdown",
   "metadata": {},
   "source": [
    "* Apply Gaussian filtering to 'res1.png'\n",
    "* To apply the filter to an image use ```cv2.GaussianBlur(img, fSize, fSigma)```\n",
    "* Experiment with different values of fSigma. How does the amount of smoothing vary with this parameter?"
   ]
  },
  {
   "cell_type": "code",
   "execution_count": null,
   "metadata": {},
   "outputs": [],
   "source": [
    "img = cv2.imread('images/res1.png',0)\n",
    "plt.imshow(img)\n",
    "\n",
    "# apply filters, try different values of Sigma\n",
    "### your code here \n"
   ]
  },
  {
   "cell_type": "markdown",
   "metadata": {},
   "source": [
    "As you saw in the first exercise of this session, applying the filter near the border of\n",
    "the image is not a well-defined problem. It is possible to deal with this issue through\n",
    "different approaches. Luckily, cv2.GaussianBlur implements different ways of dealing with border effects.\n",
    "Here you will try them out and understand what each of them does."
   ]
  },
  {
   "cell_type": "markdown",
   "metadata": {},
   "source": [
    "*  Apply a Gaussian filter with fSigma = 10 and fSize = 25 to 'res1.png'\n",
    "* Use borderType flag of cv2.GaussianBlur function to define what kind of border should be added around the image (cv2.BORDER_CONSTANT, cv2.BORDER_REFLECT, cv2.BORDER_REPLICATE).\n"
   ]
  },
  {
   "cell_type": "code",
   "execution_count": null,
   "metadata": {},
   "outputs": [],
   "source": [
    "img = cv2.imread('images/res1.png',0)\n",
    "# apply different border types for blur filters\n",
    "### your code here\n"
   ]
  },
  {
   "cell_type": "markdown",
   "metadata": {},
   "source": [
    "## Exercise 3: Edge detector"
   ]
  },
  {
   "cell_type": "markdown",
   "metadata": {
    "collapsed": true
   },
   "source": [
    "Edge detection is one of the most important operations in Computer Vision. In this exercise we will investigate how it\n",
    "can be performed and what information can be obtained from it.\n",
    "\n",
    "One of the ways to detect edges is to compute image intensity gradients. They can be approximated by convolving image with Sobel filters. They consist of 2 $3 \\times 3$ filters:\n",
    "\n",
    "\\begin{equation*}\n",
    "S_x = \\frac{1}{8}\n",
    "\\begin{bmatrix}\n",
    "-1 & 0 & +1\\\\\n",
    "-2 & 0 & +2\\\\\n",
    "-1 & 0 & +1\\\\\n",
    "\\end{bmatrix}\n",
    "\\hspace{2cm}\n",
    "S_y = \\frac{1}{8}\n",
    "\\begin{bmatrix}\n",
    "-1 & -2 & -1\\\\\n",
    "0 & 0 & 0\\\\\n",
    "+1 & +2 & +1\\\\\n",
    "\\end{bmatrix}\n",
    "\\end{equation*}\n",
    "\n",
    "where $S_x$ computes the partial derivative of the image in the horizontal direction, while $S_y$ does it in the vertical direction."
   ]
  },
  {
   "cell_type": "markdown",
   "metadata": {},
   "source": [
    "* Compute the image derivatives in x- and y-directions using Sobel filters. You can use for that function ```python cv2.Sobel()```"
   ]
  },
  {
   "cell_type": "code",
   "execution_count": null,
   "metadata": {},
   "outputs": [],
   "source": [
    "img_coins = cv2.imread('images/coins.png',0)\n",
    "\n",
    "### Compute gradient in x-direction\n",
    "### your code here\n",
    "# grad_x = \n",
    "\n",
    "### Compute gradient in y-direction\n",
    "### your code here\n",
    "# grad_y = "
   ]
  },
  {
   "cell_type": "markdown",
   "metadata": {},
   "source": [
    "* Visualize the image gradients. How can you explain the differences between the two results? "
   ]
  },
  {
   "cell_type": "code",
   "execution_count": null,
   "metadata": {},
   "outputs": [],
   "source": [
    "fig = plt.figure()\n",
    "plt.subplot(1,2,1)\n",
    "grady = plt.imshow(grad_x,cmap=\"jet\")\n",
    "plt.title(\"Gradient x\")\n",
    "plt.colorbar(fraction=0.046, pad=0.04)\n",
    "plt.subplot(1,2,2)\n",
    "gradx = plt.imshow(grad_y,cmap=\"jet\")\n",
    "plt.title(\"Gradient y\")\n",
    "plt.colorbar(fraction=0.046, pad=0.04)\n",
    "plt.tight_layout()"
   ]
  },
  {
   "cell_type": "markdown",
   "metadata": {},
   "source": [
    "Mathematically, the goal of the filters $S_x$ and $S_y$ is to approximate the derivatives of the image with respect to \n",
    "the horizontal and vertical directions respectively, such that\n",
    "\\begin{equation*}\n",
    "\\nabla I_x(x,y) = (I*S_x)[x,y]\n",
    "\\quad\\mathrm{and}\\quad\n",
    "\\nabla I_y(x,y) = (I*S_y)[x,y]\n",
    "\\end{equation*}\n",
    "\n",
    "Therefore, the gradient of an image at each point is a 2D vector\n",
    "\\begin{equation*}\n",
    "\\nabla I =\n",
    "\\begin{bmatrix}\n",
    "\\nabla I_x\\\\\n",
    "\\nabla I_y\n",
    "\\end{bmatrix}\n",
    "\\end{equation*}\n",
    "\n",
    "This vector can be computed for every pixel. Its magnitude and phase can be computed as\n",
    "\\begin{equation*}\n",
    "|| \\nabla I || = \\sqrt{(\\nabla I_x)^2 + (\\nabla I_y)^2} \\\\\n",
    "\\angle \\nabla I = atan2(\\nabla I_x, \\nabla I_y)\n",
    "\\end{equation*}\n",
    "\n",
    "$\\it{Note:}$ we use atan2() instead of atan() to be able to determine the right quadrant of the phase."
   ]
  },
  {
   "cell_type": "markdown",
   "metadata": {},
   "source": [
    "* Using the previously computed image gradients and the above formula compute the gradient magnitude and gradient phase.\n",
    "\n"
   ]
  },
  {
   "cell_type": "code",
   "execution_count": null,
   "metadata": {},
   "outputs": [],
   "source": [
    "### Compute gradient magnitude\n",
    "### your code here\n",
    "# grad_mag = \n",
    "\n",
    "### Compute gradient phase\n",
    "### your code here\n",
    "# grad_phase = "
   ]
  },
  {
   "cell_type": "markdown",
   "metadata": {},
   "source": [
    "* Visualize the gradient magnitude and phase images along with the original image. Where does the gradient have high \n",
    "magnitude? How does the phase change along the coin border?"
   ]
  },
  {
   "cell_type": "code",
   "execution_count": null,
   "metadata": {},
   "outputs": [],
   "source": [
    "fig = plt.figure()\n",
    "plt.subplot(1,3,1)\n",
    "plt.imshow(img_coins)\n",
    "plt.subplot(1,3,2)\n",
    "grady = plt.imshow(grad_mag,cmap=\"jet\")\n",
    "plt.title(\"Gradient magnitude\")\n",
    "plt.colorbar(fraction=0.046, pad=0.04)\n",
    "plt.subplot(1,3,3)\n",
    "gradx = plt.imshow(grad_phase)\n",
    "plt.title(\"Gradient phase\")\n",
    "plt.colorbar(fraction=0.046, pad=0.04)\n",
    "plt.tight_layout()"
   ]
  },
  {
   "cell_type": "markdown",
   "metadata": {},
   "source": [
    "The gradient has got the highest magnitude at the borders of the coins. For that reason it can be considered a good \n",
    "proxy for detecting edges. The phase of the gradient changes smoothly along the circular coin border along with the \n",
    "normal of the boundary."
   ]
  },
  {
   "cell_type": "markdown",
   "metadata": {},
   "source": [
    "## Exercise 4: Separable Filters"
   ]
  },
  {
   "cell_type": "markdown",
   "metadata": {},
   "source": [
    "\n",
    "As seen in class, certain types of 2D filters can be thought of as the composition of two\n",
    "1-dimensional filters. These are called Separable Filters, and can be computed more\n",
    "efficiently than those who are non-separable.\n",
    "\n",
    "For example, the Sobel filter $S_x$ can be decomposed as\n",
    " \n",
    "\\begin{equation*} \n",
    "\\begin{bmatrix}\n",
    "-1 & 0 & +1\\\\\n",
    "-2 & 0 & +2\\\\\n",
    "-1 & 0 & +1\\\\\n",
    "\\end{bmatrix} = \n",
    "\\begin{bmatrix}\n",
    "+1 \\\\\n",
    "+2 \\\\\n",
    "+1 \\\\\n",
    "\\end{bmatrix}\n",
    "\\begin{bmatrix}\n",
    "-1 & 0 & +1\n",
    "\\end{bmatrix}\n",
    "\\end{equation*} \n",
    "\n",
    "which means that the convolution of I with the 2D filter $S_x$ can be simplified to two\n",
    "convolutions with 1D filters,\n",
    "\n",
    "\\begin{equation*}  \n",
    "I * S_x = \n",
    "\\frac{1}{8} I *\n",
    "\\begin{bmatrix}\n",
    "-1 & 0 & +1\\\\\n",
    "-2 & 0 & +2\\\\\n",
    "-1 & 0 & +1\\\\\n",
    "\\end{bmatrix}  \n",
    "\\end{equation*} \n",
    "\n",
    "\\begin{equation*} \n",
    "= \n",
    "\\frac{1}{8}\\Bigg(I *\n",
    "\\begin{bmatrix}\n",
    "+1\\\\\n",
    "+2\\\\\n",
    "+1\\\\\n",
    "\\end{bmatrix} \\Bigg) *\n",
    "\\begin{bmatrix}\n",
    "-1 & 0 & +1\n",
    "\\end{bmatrix} \n",
    "\\end{equation*} \n",
    "\n",
    "For the comparison of the computational complexity of separable and non-separable\n",
    "filters, check out the lecture notes.\n",
    "\n",
    "* We will compare the performance of separable and non-separable filters.\n",
    "    -  Create a separable filter (for example a Gaussian filter, you can use  ```gaussian_filter``` function given below) \n",
    "    -  Use ```decomposeSeparableFilter``` to decompose the seperable filter to two, 1D filters. \n",
    "    -  Implement ```applyImageSepFilter``` function. You can use ```applyImageFilter``` function implemented in Applying Convolutional Filters (Hint: two lines of code)\n",
    "    -  Performe convolution on ```img``` matrix and measure the time for ```decomposeSeparableFilter``` and ```applyImageSepFilter```. \n",
    "    -  Repeat the test with several increasing filter sizes.\n",
    "    -  measure the elapsed time for each filtering. To get the start and end time, use time.time()\n",
    "    -  Plot the results in a graph (elapsed time) vs (filter size).\n",
    "    -  What is your conclusion ? Is filtering with separable filters always faster than with non-separable ones?"
   ]
  },
  {
   "cell_type": "code",
   "execution_count": null,
   "metadata": {},
   "outputs": [],
   "source": [
    "def decomposeSeparableFilter(F): \n",
    "    h = [1]\n",
    "    s = len(F)\n",
    "    for i in range(1,s):\n",
    "            h.append(np.sum(F[:,i])/(np.sum(F[:,0])))\n",
    "    h = np.asmatrix(np.array(h))\n",
    "    v = np.asmatrix(F[:,0]).transpose()\n",
    "    return v, h\n",
    "\n",
    "def applyImageSepFilter(I, F_v, F_h):\n",
    "    # ******************************************\n",
    "    # Implement the convolution with the two 1D filters and \n",
    "    # assign the result to 'output' variable\n",
    "    # Hint: you only need two lines of code\n",
    "    # ******************************************\n",
    "    ### your code here\n",
    "    #\n",
    "    # after implementation remove the line below\n",
    "    raise ValueError('Not implemented yet.') \n",
    "    # ******************************************\n",
    "\n",
    "    return output"
   ]
  },
  {
   "cell_type": "code",
   "execution_count": null,
   "metadata": {},
   "outputs": [],
   "source": [
    "# Sample image\n",
    "img = cv2.imread('images/res1.png',0)\n",
    "img = img[150:200,150:200] \n",
    "# We crop the image, becasue larger images take considerably longer time to \n",
    "# perform convolution with large filters\n",
    "    \n",
    "# Filter sizes to try out. \n",
    "# Since we consider filter with odd heigh and width, \n",
    "# we start from 3 and increment it by 2 till 29. \n",
    "filter_sizes = range(3,30,2)"
   ]
  },
  {
   "cell_type": "code",
   "execution_count": null,
   "metadata": {},
   "outputs": [],
   "source": [
    "# ******************************************\n",
    "# Perform the comparison here\n",
    "# Hint: Iterate through the filter_sizes and in each iteration perform convolution with the 2D and 1D filters\n",
    "#         using applyImageFilter and applyImageSepFilter functions respetively. Measure the time for each execution. \n",
    "#         Store the execution times and plot them at the end \n",
    "# Note: Performing convolutions with larger filters could take longer time (sometimes more than a minute)\n",
    "# ******************************************\n",
    "# your code here\n",
    "# after implemntation remove the line below\n",
    "raise ValueError('Not implemented yet.') \n",
    "# ******************************************"
   ]
  },
  {
   "cell_type": "code",
   "execution_count": null,
   "metadata": {},
   "outputs": [],
   "source": []
  }
 ],
 "metadata": {
  "kernelspec": {
   "display_name": "Python 3 (ipykernel)",
   "language": "python",
   "name": "python3"
  },
  "language_info": {
   "codemirror_mode": {
    "name": "ipython",
    "version": 3
   },
   "file_extension": ".py",
   "mimetype": "text/x-python",
   "name": "python",
   "nbconvert_exporter": "python",
   "pygments_lexer": "ipython3",
   "version": "3.9.16"
  }
 },
 "nbformat": 4,
 "nbformat_minor": 2
}
